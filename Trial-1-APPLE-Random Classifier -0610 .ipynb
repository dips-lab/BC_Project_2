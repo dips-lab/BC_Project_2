{
 "cells": [
  {
   "cell_type": "code",
   "execution_count": 56,
   "id": "suited-philadelphia",
   "metadata": {},
   "outputs": [],
   "source": [
    "import pandas_datareader as pdr\n",
    "import datetime as dt\n",
    "import numpy as np"
   ]
  },
  {
   "cell_type": "code",
   "execution_count": 108,
   "id": "acceptable-stretch",
   "metadata": {},
   "outputs": [],
   "source": [
    "ticker = \"AAPL\" # Apple Inc. Stock\n",
    "data = pdr.get_data_yahoo(ticker, dt.datetime(2002,1,1), dt.datetime.now(), interval='d')"
   ]
  },
  {
   "cell_type": "code",
   "execution_count": 109,
   "id": "italian-motel",
   "metadata": {},
   "outputs": [],
   "source": [
    "# Calculate the EMA10 > EMA30 signal\n",
    "ema10 = data['Close'].ewm(span=10).mean()\n",
    "ema30 = data['Close'].ewm(span=30).mean()\n",
    "data['EMA10gtEMA30'] = np.where(ema10 > ema30, 1, -1)"
   ]
  },
  {
   "cell_type": "code",
   "execution_count": 110,
   "id": "documentary-spiritual",
   "metadata": {},
   "outputs": [],
   "source": [
    "# Calculate where Close is > EMA10\n",
    "data['ClGtEMA10'] = np.where(data['Close'] > ema10, 1, -1)"
   ]
  },
  {
   "cell_type": "code",
   "execution_count": 111,
   "id": "powerful-bryan",
   "metadata": {},
   "outputs": [],
   "source": [
    "# Calculate the MACD signal\n",
    "exp1 = data['Close'].ewm(span=12).mean()\n",
    "exp2 = data['Close'].ewm(span=26).mean()\n",
    "macd = exp1 - exp2\n",
    "macd_signal = macd.ewm(span=9).mean()\n",
    "data['MACD'] = macd_signal - macd"
   ]
  },
  {
   "cell_type": "code",
   "execution_count": 112,
   "id": "primary-workstation",
   "metadata": {},
   "outputs": [],
   "source": [
    "# Calculate RSI\n",
    "delta = data['Close'].diff()\n",
    "up = delta.clip(lower=0)\n",
    "down = -1*delta.clip(upper=0)\n",
    "ema_up = up.ewm(com=13, adjust=False).mean()\n",
    "ema_down = down.ewm(com=13, adjust=False).mean()\n",
    "rs = ema_up/ema_down\n",
    "data['RSI'] = 100 - (100/(1 + rs))"
   ]
  },
  {
   "cell_type": "code",
   "execution_count": 113,
   "id": "handy-dressing",
   "metadata": {},
   "outputs": [],
   "source": [
    "# Stochastic Oscillator\n",
    "high14= data['High'].rolling(14).max()\n",
    "low14 = data['Low'].rolling(14).min()\n",
    "data['%K'] = (data['Close'] - low14)*100/(high14 - low14)"
   ]
  },
  {
   "cell_type": "code",
   "execution_count": 114,
   "id": "abstract-apparatus",
   "metadata": {},
   "outputs": [],
   "source": [
    "\n",
    "# Williams Percentage Range\n",
    "data['%R'] = -100*(high14 - data['Close'])/(high14 - low14)"
   ]
  },
  {
   "cell_type": "code",
   "execution_count": 115,
   "id": "upper-tower",
   "metadata": {},
   "outputs": [
    {
     "data": {
      "text/plain": [
       "Date\n",
       "2021-05-28    127.309998\n",
       "2021-06-01    125.430000\n",
       "2021-06-02    127.099998\n",
       "2021-06-03    126.900002\n",
       "2021-06-04    126.849998\n",
       "2021-06-07    125.279999\n",
       "2021-06-08    124.610001\n",
       "2021-06-09    124.279999\n",
       "2021-06-10    125.059998\n",
       "2021-06-11    123.540001\n",
       "Name: Close, dtype: float64"
      ]
     },
     "execution_count": 115,
     "metadata": {},
     "output_type": "execute_result"
    }
   ],
   "source": [
    "days = 6\n",
    "\n",
    "# Price Rate of Change\n",
    "ct_n = data['Close'].shift(days)\n",
    "data['PROC'] = (data['Close'] - ct_n)/ct_n\n",
    "\n",
    "ct_n.tail(10)"
   ]
  },
  {
   "cell_type": "code",
   "execution_count": 116,
   "id": "arbitrary-grave",
   "metadata": {},
   "outputs": [
    {
     "name": "stdout",
     "output_type": "stream",
     "text": [
      "/bin/bash: -c: line 0: syntax error near unexpected token `/image.png'\n",
      "/bin/bash: -c: line 0: `[caption](/image.png)'\n"
     ]
    }
   ],
   "source": [
    "#Trees are the foundation in the Forest. Or Decision Trees are the foundation in a Forest Classifier. Hence, it is a good starting point to understand how a Decision Tree works. Luckily, they are quite easy to understand.\n",
    "\n",
    "#Let’s try to investigate a Decision Tree that is based on two of the indicators above. We take the RSI (Relative Strength Index) and %K (Stochastic Oscillator). A Decision Tree could look like this (depending on the training data).\n",
    "\n",
    "![caption](/image.png)\n",
    "\n",
    "#Decision Tree for %K and RSI\n",
    "#When we get a new data row with %K and RSI indicators, it will start at the top of the Decision Tree.\n",
    "\n",
    "#At the first node it will check if %K <= 4.615, if so, take the left child otherwise the right child.\n",
    "#The gini tells us how a randomly chosen element would be incorrectly labeled. Hence, a low value close to 0 is good.\n",
    "#Samples tells us how many of the samples of the training set reached this node.\n",
    "#Finally, the value tells us how the values are distributed. In the final decision nodes, the category of most element is the prediction.\n",
    "#Looking at the above Decision Tree, it does not seem to be very good. The majority of samples end up the fifth node with a gini on 0.498, close to random, right? And it will label it 1, growth.\n",
    "\n",
    "#But this is the idea with Forest Classifiers, it will take a bunch of Decision Trees, that might not be good, and use majority of them to classify it.\n",
    "\n",
    "\n",
    "\n",
    "\n"
   ]
  },
  {
   "cell_type": "code",
   "execution_count": 117,
   "id": "italian-actress",
   "metadata": {},
   "outputs": [],
   "source": [
    "##Create the Forest Classifier\n",
    "\n",
    "\n",
    "import pandas_datareader as pdr\n",
    "import datetime as dt\n",
    "import numpy as np\n",
    "import pandas as pd\n",
    "from sklearn.model_selection import train_test_split\n",
    "from sklearn.metrics import classification_report, accuracy_score\n",
    "from sklearn.ensemble import RandomForestClassifier"
   ]
  },
  {
   "cell_type": "code",
   "execution_count": 118,
   "id": "guided-collins",
   "metadata": {},
   "outputs": [],
   "source": [
    "ticker = \"AAPL\"\n",
    "data = pdr.get_data_yahoo(ticker, dt.datetime(2016,1,1), dt.datetime.now(), interval='d')"
   ]
  },
  {
   "cell_type": "code",
   "execution_count": 119,
   "id": "fifty-ottawa",
   "metadata": {},
   "outputs": [],
   "source": [
    "# Calculate the EMA10 > EMA30 signal\n",
    "ema10 = data['Close'].ewm(span=10).mean()\n",
    "ema30 = data['Close'].ewm(span=30).mean()\n",
    "data['EMA10gtEMA30'] = np.where(ema10 > ema30, 1, -1)"
   ]
  },
  {
   "cell_type": "code",
   "execution_count": 120,
   "id": "rotary-synthetic",
   "metadata": {},
   "outputs": [],
   "source": [
    "# Calculate where Close is > EMA10\n",
    "data['ClGtEMA10'] = np.where(data['Close'] > ema10, 1, -1)\n",
    "\n"
   ]
  },
  {
   "cell_type": "code",
   "execution_count": 121,
   "id": "exempt-disabled",
   "metadata": {},
   "outputs": [],
   "source": [
    "# Calculate the MACD signal\n",
    "exp1 = data['Close'].ewm(span=12).mean()\n",
    "exp2 = data['Close'].ewm(span=26).mean()\n",
    "macd = exp1 - exp2\n",
    "macd_signal = macd.ewm(span=9).mean()\n",
    "data['MACD'] = macd_signal - macd"
   ]
  },
  {
   "cell_type": "code",
   "execution_count": 122,
   "id": "efficient-kazakhstan",
   "metadata": {},
   "outputs": [],
   "source": [
    "# Calculate RSI\n",
    "delta = data['Close'].diff()\n",
    "up = delta.clip(lower=0)\n",
    "down = -1*delta.clip(upper=0)\n",
    "ema_up = up.ewm(com=13, adjust=False).mean()\n",
    "ema_down = down.ewm(com=13, adjust=False).mean()\n",
    "rs = ema_up/ema_down\n",
    "data['RSI'] = 100 - (100/(1 + rs))"
   ]
  },
  {
   "cell_type": "code",
   "execution_count": 123,
   "id": "official-catch",
   "metadata": {},
   "outputs": [],
   "source": [
    "# Stochastic Oscillator\n",
    "high14= data['High'].rolling(14).max()\n",
    "low14 = data['Low'].rolling(14).min()\n",
    "data['%K'] = (data['Close'] - low14)*100/(high14 - low14)"
   ]
  },
  {
   "cell_type": "code",
   "execution_count": 124,
   "id": "apparent-equity",
   "metadata": {},
   "outputs": [],
   "source": [
    "# Williams Percentage Range\n",
    "data['%R'] = -100*(high14 - data['Close'])/(high14 - low14)"
   ]
  },
  {
   "cell_type": "code",
   "execution_count": 125,
   "id": "brave-stationery",
   "metadata": {},
   "outputs": [],
   "source": [
    "days = 6\n",
    "\n",
    "# Price Rate of Change\n",
    "ct_n = data['Close'].shift(days)\n",
    "data['PROC'] = (data['Close'] - ct_n)/ct_n"
   ]
  },
  {
   "cell_type": "code",
   "execution_count": 126,
   "id": "previous-mouse",
   "metadata": {},
   "outputs": [],
   "source": [
    "# Set class labels to classify\n",
    "data['Return'] = data['Close'].pct_change(1).shift(-1)\n",
    "data['class'] = np.where(data['Return'] > 0, 1, 0)"
   ]
  },
  {
   "cell_type": "code",
   "execution_count": null,
   "id": "classical-discussion",
   "metadata": {},
   "outputs": [],
   "source": []
  },
  {
   "cell_type": "code",
   "execution_count": 127,
   "id": "approximate-toolbox",
   "metadata": {},
   "outputs": [],
   "source": [
    "# Clean for NAN rows\n",
    "data = data.dropna()\n",
    "# Minimize dataset\n",
    "data = data.iloc[-200:]"
   ]
  },
  {
   "cell_type": "code",
   "execution_count": 128,
   "id": "sufficient-medicine",
   "metadata": {},
   "outputs": [],
   "source": [
    "# Data to predict\n",
    "predictors = ['EMA10gtEMA30', 'ClGtEMA10', 'MACD', 'RSI', '%K', '%R', 'PROC']\n",
    "X = data[predictors]\n",
    "y = data['class']"
   ]
  },
  {
   "cell_type": "code",
   "execution_count": 129,
   "id": "simple-strategy",
   "metadata": {},
   "outputs": [],
   "source": [
    "# Split data into train and test\n",
    "X_train, X_test, y_train, y_test = train_test_split(X, y, test_size=0.30)"
   ]
  },
  {
   "cell_type": "code",
   "execution_count": 130,
   "id": "modular-negative",
   "metadata": {},
   "outputs": [],
   "source": [
    "# Train the model\n",
    "rfc = RandomForestClassifier(random_state=0)\n",
    "rfc = rfc.fit(X_train, y_train)"
   ]
  },
  {
   "cell_type": "code",
   "execution_count": 131,
   "id": "together-macintosh",
   "metadata": {},
   "outputs": [],
   "source": [
    "# Test the model by doing some predictions\n",
    "y_pred = rfc.predict(X_test)"
   ]
  },
  {
   "cell_type": "code",
   "execution_count": 132,
   "id": "satisfactory-scotland",
   "metadata": {},
   "outputs": [
    {
     "name": "stdout",
     "output_type": "stream",
     "text": [
      "Model accuracy 0.5166666666666667\n",
      "              precision    recall  f1-score   support\n",
      "\n",
      "           0       0.62      0.46      0.52        35\n",
      "           1       0.44      0.60      0.51        25\n",
      "\n",
      "    accuracy                           0.52        60\n",
      "   macro avg       0.53      0.53      0.52        60\n",
      "weighted avg       0.54      0.52      0.52        60\n",
      "\n"
     ]
    }
   ],
   "source": [
    "# See how accurate the predictions are\n",
    "report = classification_report(y_test, y_pred)\n",
    "print('Model accuracy', accuracy_score(y_test, y_pred, normalize=True))\n",
    "print(report)"
   ]
  }
 ],
 "metadata": {
  "kernelspec": {
   "display_name": "Python [conda env:anaconda3-pyvizenv] *",
   "language": "python",
   "name": "conda-env-anaconda3-pyvizenv-py"
  },
  "language_info": {
   "codemirror_mode": {
    "name": "ipython",
    "version": 3
   },
   "file_extension": ".py",
   "mimetype": "text/x-python",
   "name": "python",
   "nbconvert_exporter": "python",
   "pygments_lexer": "ipython3",
   "version": "3.8.8"
  }
 },
 "nbformat": 4,
 "nbformat_minor": 5
}
